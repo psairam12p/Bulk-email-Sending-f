{
 "cells": [
  {
   "cell_type": "code",
   "execution_count": 1,
   "id": "2536098a-3f39-4975-9eb5-5bf9c449a2b2",
   "metadata": {},
   "outputs": [
    {
     "name": "stdout",
     "output_type": "stream",
     "text": [
      "Requirement already satisfied: pywin32 in c:\\users\\sairam\\appdata\\local\\programs\\python\\python311\\lib\\site-packages (306)\n",
      "Requirement already satisfied: pandas in c:\\users\\sairam\\appdata\\local\\programs\\python\\python311\\lib\\site-packages (2.0.3)\n",
      "Requirement already satisfied: python-dateutil>=2.8.2 in c:\\users\\sairam\\appdata\\local\\programs\\python\\python311\\lib\\site-packages (from pandas) (2.9.0.post0)\n",
      "Requirement already satisfied: pytz>=2020.1 in c:\\users\\sairam\\appdata\\local\\programs\\python\\python311\\lib\\site-packages (from pandas) (2023.3)\n",
      "Requirement already satisfied: tzdata>=2022.1 in c:\\users\\sairam\\appdata\\local\\programs\\python\\python311\\lib\\site-packages (from pandas) (2023.3)\n",
      "Requirement already satisfied: numpy>=1.21.0 in c:\\users\\sairam\\appdata\\local\\programs\\python\\python311\\lib\\site-packages (from pandas) (1.26.4)\n",
      "Requirement already satisfied: six>=1.5 in c:\\users\\sairam\\appdata\\local\\programs\\python\\python311\\lib\\site-packages (from python-dateutil>=2.8.2->pandas) (1.16.0)\n",
      "Note: you may need to restart the kernel to use updated packages.\n"
     ]
    },
    {
     "name": "stderr",
     "output_type": "stream",
     "text": [
      "\n",
      "[notice] A new release of pip is available: 24.0 -> 25.0.1\n",
      "[notice] To update, run: C:\\Users\\sairam\\AppData\\Local\\Programs\\Python\\Python311\\python.exe -m pip install --upgrade pip\n"
     ]
    }
   ],
   "source": [
    "pip install pywin32 pandas"
   ]
  },
  {
   "cell_type": "code",
   "execution_count": 5,
   "id": "24f3f24b-1de2-431f-b15e-654693d50c16",
   "metadata": {},
   "outputs": [
    {
     "data": {
      "text/html": [
       "<div>\n",
       "<style scoped>\n",
       "    .dataframe tbody tr th:only-of-type {\n",
       "        vertical-align: middle;\n",
       "    }\n",
       "\n",
       "    .dataframe tbody tr th {\n",
       "        vertical-align: top;\n",
       "    }\n",
       "\n",
       "    .dataframe thead th {\n",
       "        text-align: right;\n",
       "    }\n",
       "</style>\n",
       "<table border=\"1\" class=\"dataframe\">\n",
       "  <thead>\n",
       "    <tr style=\"text-align: right;\">\n",
       "      <th></th>\n",
       "      <th>Name</th>\n",
       "      <th>email_id</th>\n",
       "    </tr>\n",
       "  </thead>\n",
       "  <tbody>\n",
       "    <tr>\n",
       "      <th>0</th>\n",
       "      <td>sai</td>\n",
       "      <td>psairam12p@gmail.com</td>\n",
       "    </tr>\n",
       "    <tr>\n",
       "      <th>1</th>\n",
       "      <td>kumar</td>\n",
       "      <td>psairam12p@gmail.com</td>\n",
       "    </tr>\n",
       "    <tr>\n",
       "      <th>2</th>\n",
       "      <td>ram</td>\n",
       "      <td>psairam12p@gmail.com</td>\n",
       "    </tr>\n",
       "  </tbody>\n",
       "</table>\n",
       "</div>"
      ],
      "text/plain": [
       "    Name              email_id\n",
       "0    sai  psairam12p@gmail.com\n",
       "1  kumar  psairam12p@gmail.com\n",
       "2    ram  psairam12p@gmail.com"
      ]
     },
     "execution_count": 5,
     "metadata": {},
     "output_type": "execute_result"
    }
   ],
   "source": [
    "import win32com.client\n",
    "import pandas as pd\n",
    "\n",
    "# Load email list from CSV\n",
    "df = pd.read_excel(r\"C:\\Users\\sairam\\Documents\\mailig.xlsx\")\n",
    "df"
   ]
  },
  {
   "cell_type": "code",
   "execution_count": 9,
   "id": "655d6e3e-2430-4b5c-8ca9-4fee77028890",
   "metadata": {},
   "outputs": [
    {
     "name": "stdout",
     "output_type": "stream",
     "text": [
      "Email sent to sai (psairam12p@gmail.com)\n",
      "Bulk email process completed!\n"
     ]
    }
   ],
   "source": []
  },
  {
   "cell_type": "code",
   "execution_count": 14,
   "id": "3a8a25c2-f1f1-4428-bdd1-40cfd9ea30fa",
   "metadata": {},
   "outputs": [
    {
     "name": "stdout",
     "output_type": "stream",
     "text": [
      "Email sent to sai (psairam12p@gmail.com)\n",
      "Bulk email process completed!\n"
     ]
    }
   ],
   "source": [
    "import win32com.client\n",
    "import pandas as pd\n",
    "\n",
    "# Load email list from excel\n",
    "# this list of receiver data example name, email_id, etc.,\n",
    "df = pd.read_excel(r\"C:\\Users\\sairam\\Documents\\mailig.xlsx\") \n",
    "\n",
    "# Connect to Outlook\n",
    "outlook = win32com.client.Dispatch(\"Outlook.Application\")\n",
    "namespace = outlook.GetNamespace(\"MAPI\")\n",
    "\n",
    "# Loop through each email in the list\n",
    "for index, row in df.iterrows():\n",
    "    recipient_name = row[\"Name\"]\n",
    "    recipient_email = row[\"email_id\"]\n",
    "\n",
    "    mail = outlook.CreateItem(0)  # 0 represents MailItem\n",
    "    mail.To = recipient_email\n",
    "    mail.Subject = f\"D365 Business Central - Microsoft Services\"\n",
    "    mail.HTMLBody = f\"\"\"\n",
    "\n",
    "    <p>From: Greg Moser <Greg.Moser@comm.compqsoft.com> <p>\n",
    "    <p>Sent: 26 February 2025 <p>\n",
    "    <p>To: {recipient_email}<p>\n",
    "    <p>Subject: D365 Business Central - Microsoft Services<p>\n",
    "    \n",
    "    <p>Dear {recipient_name},<p>\n",
    "    \n",
    "    <p>I hope this message finds you well.<p>\n",
    "    \n",
    "    \n",
    "    <p style=\"font-size:6px;\">\n",
    "    If you wish to opt out of future emails, please click here to \n",
    "    <a href=\"https://compqsoft.com/technologygroup/unsubscribe\" style=\"color:blue; text-decoration:none;\">unsubscribe</a>\n",
    "    </p>\n",
    "    \"\"\"\n",
    "    # in body <p> represent next line <p>\n",
    "    # Attach a file (optional)\n",
    "    # mail.Attachments.Add(r\"C:\\path\\to\\file.pdf\")\n",
    "\n",
    "    mail.Send()\n",
    "    print(f\"Email sent to {recipient_name} ({recipient_email})\")\n",
    "\n",
    "print(\"Bulk email process completed!\")\n"
   ]
  }
 ],
 "metadata": {
  "kernelspec": {
   "display_name": "Python 3 (ipykernel)",
   "language": "python",
   "name": "python3"
  },
  "language_info": {
   "codemirror_mode": {
    "name": "ipython",
    "version": 3
   },
   "file_extension": ".py",
   "mimetype": "text/x-python",
   "name": "python",
   "nbconvert_exporter": "python",
   "pygments_lexer": "ipython3",
   "version": "3.11.3"
  }
 },
 "nbformat": 4,
 "nbformat_minor": 5
}
